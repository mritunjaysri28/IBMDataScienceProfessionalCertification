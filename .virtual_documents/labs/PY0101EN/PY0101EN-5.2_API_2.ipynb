#you will need the following library 
get_ipython().getoutput("pip install ibm_watson wget")


from ibm_watson import SpeechToTextV1 
import json
from ibm_cloud_sdk_core.authenticators import IAMAuthenticator


url_s2t = "https://api.eu-gb.speech-to-text.watson.cloud.ibm.com/instances/3f04db47-247b-49a4-a57f-f5936ca9bcca"


iam_apikey_s2t = {createAPIKey_SpeechToText}


authenticator = IAMAuthenticator(iam_apikey_s2t)
s2t = SpeechToTextV1(authenticator=authenticator)
s2t.set_service_url(url_s2t)
s2t


get_ipython().getoutput("wget -O PolynomialRegressionandPipelines.mp3  https://cf-courses-data.s3.us.cloud-object-storage.appdomain.cloud/IBMDeveloperSkillsNetwork-PY0101EN-SkillsNetwork/labs/Module%205/data/PolynomialRegressionandPipelines.mp3")




filename='PolynomialRegressionandPipelines.mp3'


with open(filename, mode="rb")  as wav:
    response = s2t.recognize(audio=wav, content_type='audio/mp3')


response.result


from pandas import json_normalize

json_normalize(response.result['results'],"alternatives")


response
print('a')


recognized_text=response.result['results'][0]["alternatives"][0]["transcript"]
type(recognized_text)


from ibm_watson import LanguageTranslatorV3


url_lt='https://api.us-south.language-translator.watson.cloud.ibm.com/instances/ea99c7b6-7a36-471d-9dfd-f60fdec9ca71'


apikey_lt='ARSI_eQtvqIN_kiXllKKvfe2_GcLWOBP82nSs-1cCM4O'


version_lt='2018-05-01'


authenticator = IAMAuthenticator(apikey_lt)
language_translator = LanguageTranslatorV3(version=version_lt,authenticator=authenticator)
language_translator.set_service_url(url_lt)
language_translator


from pandas import json_normalize

json_normalize(language_translator.list_identifiable_languages().get_result(), "languages")
# language_translator.list_identifiable_languages().get_result()


translation_response = language_translator.translate(\
    text=recognized_text, model_id='en-es')
translation_response


translation=translation_response.get_result()
translation


spanish_translation =translation['translations'][0]['translation']
spanish_translation 


translation_new = language_translator.translate(text=spanish_translation ,model_id='es-en').get_result()


translation_eng=translation_new['translations'][0]['translation']
translation_eng


# Write your code below and press Shift+Enter to execute
translation_new = language_translator.translate(text=spanish_translation ,model_id='en-es').get_result()
translation_new['translations'][0]['translation']
